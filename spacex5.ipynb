{
  "nbformat": 4,
  "nbformat_minor": 0,
  "metadata": {
    "colab": {
      "provenance": []
    },
    "kernelspec": {
      "name": "python3",
      "display_name": "Python 3"
    },
    "language_info": {
      "name": "python"
    }
  },
  "cells": [
    {
      "cell_type": "code",
      "source": [
        "import pandas as pd\n",
        "import numpy as np\n",
        "import matplotlib.pyplot as plt\n",
        "import seaborn as sns\n",
        "from sklearn import preprocessing\n",
        "from sklearn.model_selection import train_test_split\n",
        "from sklearn.model_selection import GridSearchCV\n",
        "from sklearn.linear_model import LogisticRegression\n",
        "from sklearn.svm import SVC\n",
        "from sklearn.tree import DecisionTreeClassifier\n",
        "from sklearn.neighbors import KNeighborsClassifier\n",
        "from sklearn.metrics import confusion_matrix"
      ],
      "metadata": {
        "id": "BQbABvrgy6uR"
      },
      "execution_count": 5,
      "outputs": []
    },
    {
      "cell_type": "code",
      "source": [
        "def plot_confusion_matrix(y,y_predict):\n",
        "    cm = confusion_matrix(y, y_predict)\n",
        "    ax= plt.subplot()\n",
        "    sns.heatmap(cm, annot=True, ax = ax); #annot=True to annotate cells\n",
        "    ax.set_xlabel('Predicted labels')\n",
        "    ax.set_ylabel('True labels')\n",
        "    ax.set_title('Confusion Matrix');\n",
        "    ax.xaxis.set_ticklabels(['did not land', 'landed']); ax.yaxis.set_ticklabels(['did not land', 'landed'])\n",
        "    plt.show()"
      ],
      "metadata": {
        "id": "jxEneZkA0QMl"
      },
      "execution_count": 6,
      "outputs": []
    },
    {
      "cell_type": "code",
      "source": [
        "data = pd.read_csv('dataset_part_2.csv')\n",
        "X = pd.read_csv('dataset_part_3.csv')"
      ],
      "metadata": {
        "id": "wkv6k9_c0sAM"
      },
      "execution_count": 7,
      "outputs": []
    },
    {
      "cell_type": "code",
      "source": [
        "print(data.columns)\n",
        "print(X.columns)"
      ],
      "metadata": {
        "colab": {
          "base_uri": "https://localhost:8080/"
        },
        "id": "QuV6vYfy1wVb",
        "outputId": "b3391ffa-5af5-4fb0-938b-4ec0054825a6"
      },
      "execution_count": 8,
      "outputs": [
        {
          "output_type": "stream",
          "name": "stdout",
          "text": [
            "Index(['rocket', 'payloads', 'launchpad', 'cores', 'date_utc', 'payload_mass',\n",
            "       'orbit', 'booster_version', 'launch_site', 'longitude', 'latitude',\n",
            "       'core_block', 'core_reused_count', 'core_serial', 'core_outcome',\n",
            "       'core_flights', 'core_gridfins', 'core_reused', 'core_legs',\n",
            "       'core_landing_pad', 'flight_number', 'landing_class'],\n",
            "      dtype='object')\n",
            "Index(['flight_number', 'payload_mass', 'core_flights', 'core_gridfins',\n",
            "       'core_reused', 'core_legs', 'core_block', 'core_reused_count',\n",
            "       'orbit_ES-L1', 'orbit_GEO', 'orbit_GTO', 'orbit_HEO', 'orbit_ISS',\n",
            "       'orbit_LEO', 'orbit_MEO', 'orbit_PO', 'orbit_SO', 'orbit_SSO',\n",
            "       'orbit_VLEO', 'launch_site_CCSFS SLC 40', 'launch_site_KSC LC 39A',\n",
            "       'launch_site_VAFB SLC 4E', 'core_landing_pad_5e9e3032383ecb267a34e7c7',\n",
            "       'core_landing_pad_5e9e3032383ecb554034e7c9',\n",
            "       'core_landing_pad_5e9e3032383ecb6bb234e7ca',\n",
            "       'core_landing_pad_5e9e3032383ecb761634e7cb',\n",
            "       'core_landing_pad_5e9e3033383ecbb9e534e7cc', 'core_serial_B0003',\n",
            "       'core_serial_B0005', 'core_serial_B0007', 'core_serial_B1003',\n",
            "       'core_serial_B1004', 'core_serial_B1005', 'core_serial_B1006',\n",
            "       'core_serial_B1007', 'core_serial_B1008', 'core_serial_B1010',\n",
            "       'core_serial_B1011', 'core_serial_B1012', 'core_serial_B1013',\n",
            "       'core_serial_B1015', 'core_serial_B1016', 'core_serial_B1017',\n",
            "       'core_serial_B1018', 'core_serial_B1019', 'core_serial_B1020',\n",
            "       'core_serial_B1021', 'core_serial_B1022', 'core_serial_B1023',\n",
            "       'core_serial_B1025', 'core_serial_B1026', 'core_serial_B1028',\n",
            "       'core_serial_B1029', 'core_serial_B1030', 'core_serial_B1031',\n",
            "       'core_serial_B1032', 'core_serial_B1034', 'core_serial_B1035',\n",
            "       'core_serial_B1036', 'core_serial_B1037', 'core_serial_B1038',\n",
            "       'core_serial_B1039', 'core_serial_B1040', 'core_serial_B1041',\n",
            "       'core_serial_B1042', 'core_serial_B1043', 'core_serial_B1044',\n",
            "       'core_serial_B1045', 'core_serial_B1046', 'core_serial_B1047',\n",
            "       'core_serial_B1048', 'core_serial_B1049', 'core_serial_B1050',\n",
            "       'core_serial_B1051', 'core_serial_B1054', 'core_serial_B1056',\n",
            "       'core_serial_B1058', 'core_serial_B1059', 'core_serial_B1060',\n",
            "       'core_serial_B1062'],\n",
            "      dtype='object')\n"
          ]
        }
      ]
    },
    {
      "cell_type": "code",
      "source": [
        "Y = data['landing_class'].to_numpy()"
      ],
      "metadata": {
        "id": "_0iFFW_S1ZXU"
      },
      "execution_count": 9,
      "outputs": []
    },
    {
      "cell_type": "code",
      "source": [
        "scaler = preprocessing.StandardScaler()\n",
        "X = scaler.fit_transform(X)"
      ],
      "metadata": {
        "id": "gjfJIOUb2QRb"
      },
      "execution_count": 10,
      "outputs": []
    },
    {
      "cell_type": "code",
      "source": [
        "X_train, X_test, Y_train, Y_test = train_test_split(X, Y, test_size=0.2, random_state=2)"
      ],
      "metadata": {
        "id": "dem__g3U3JMK"
      },
      "execution_count": 11,
      "outputs": []
    },
    {
      "cell_type": "code",
      "source": [
        "logreg = LogisticRegression()\n",
        "\n",
        "parameters = {\n",
        "    'C': [0.01, 0.1, 1, 10, 100],  # Regularization strength\n",
        "    'penalty': ['l2'],\n",
        "    'solver': ['lbfgs', 'liblinear']\n",
        "}\n",
        "\n",
        "logreg_cv = GridSearchCV(estimator=logreg, param_grid=parameters, cv=10, scoring='accuracy')\n",
        "\n",
        "logreg_cv.fit(X_train, Y_train)\n",
        "\n",
        "#Access the best parameters and the best score\n",
        "best_params = logreg_cv.best_params_\n",
        "best_score = logreg_cv.best_score_\n",
        "\n",
        "print(\"Best Parameters:\", best_params)\n",
        "print(\"Best Cross-Validation Accuracy:\", best_score)\n"
      ],
      "metadata": {
        "id": "Uu0PE1TD3mJx",
        "colab": {
          "base_uri": "https://localhost:8080/"
        },
        "outputId": "0eecf83c-11e5-4476-99f4-8d7981ba2f70"
      },
      "execution_count": 12,
      "outputs": [
        {
          "output_type": "stream",
          "name": "stdout",
          "text": [
            "Best Parameters: {'C': 0.1, 'penalty': 'l2', 'solver': 'lbfgs'}\n",
            "Best Cross-Validation Accuracy: 0.8214285714285714\n"
          ]
        }
      ]
    },
    {
      "cell_type": "code",
      "source": [
        "test_accuracy = logreg_cv.best_estimator_.score(X_test, Y_test)\n",
        "\n",
        "print(\"Test Accuracy:\", test_accuracy)"
      ],
      "metadata": {
        "id": "T7eA5OSe44zS",
        "colab": {
          "base_uri": "https://localhost:8080/"
        },
        "outputId": "aba39545-284b-44ad-c34c-78207e1e22a6"
      },
      "execution_count": 13,
      "outputs": [
        {
          "output_type": "stream",
          "name": "stdout",
          "text": [
            "Test Accuracy: 0.8333333333333334\n"
          ]
        }
      ]
    },
    {
      "cell_type": "code",
      "source": [
        "Y_pred = logreg_cv.best_estimator_.predict(X_test)\n",
        "\n",
        "plot_confusion_matrix(Y_test, Y_pred)"
      ],
      "metadata": {
        "colab": {
          "base_uri": "https://localhost:8080/",
          "height": 472
        },
        "id": "AHGQzzUb5VQ_",
        "outputId": "e20cc531-6e9f-47a9-fa6f-5af5d22e20d0"
      },
      "execution_count": 14,
      "outputs": [
        {
          "output_type": "display_data",
          "data": {
            "text/plain": [
              "<Figure size 640x480 with 2 Axes>"
            ],
            "image/png": "[encoded data removed]"
          },
          "metadata": {}
        }
      ]
    },
    {
      "cell_type": "code",
      "source": [
        "svm = SVC()\n",
        "\n",
        "parameters = {\n",
        "    'kernel': ('linear', 'rbf', 'poly', 'sigmoid'),\n",
        "    'C': np.logspace(-3, 3, 5),\n",
        "    'gamma': np.logspace(-3, 3, 5)\n",
        "}\n",
        "\n",
        "\n",
        "svm_cv = GridSearchCV(estimator=svm, param_grid=parameters, cv=10, scoring='accuracy')\n",
        "\n",
        "\n",
        "svm_cv.fit(X_train, Y_train)\n",
        "\n",
        "\n",
        "best_params = svm_cv.best_params_\n",
        "best_score = svm_cv.best_score_\n",
        "\n",
        "print(\"Best Parameters:\", best_params)\n",
        "print(\"Best Cross-Validation Accuracy:\", best_score)\n"
      ],
      "metadata": {
        "colab": {
          "base_uri": "https://localhost:8080/"
        },
        "id": "fG05OLZd6Rwd",
        "outputId": "e523c187-0e50-4bfe-e0dc-84512be91638"
      },
      "execution_count": 15,
      "outputs": [
        {
          "output_type": "stream",
          "name": "stdout",
          "text": [
            "Best Parameters: {'C': 1.0, 'gamma': 0.03162277660168379, 'kernel': 'sigmoid'}\n",
            "Best Cross-Validation Accuracy: 0.8482142857142858\n"
          ]
        }
      ]
    },
    {
      "cell_type": "code",
      "source": [
        "test_accuracy = svm_cv.best_estimator_.score(X_test, Y_test)\n",
        "\n",
        "print(\"Test Accuracy:\", test_accuracy)"
      ],
      "metadata": {
        "colab": {
          "base_uri": "https://localhost:8080/"
        },
        "id": "xZ4I9IFc68bt",
        "outputId": "167ea9e5-178b-477a-c936-cefc1a035758"
      },
      "execution_count": 16,
      "outputs": [
        {
          "output_type": "stream",
          "name": "stdout",
          "text": [
            "Test Accuracy: 0.8333333333333334\n"
          ]
        }
      ]
    },
    {
      "cell_type": "code",
      "source": [
        "yhat = svm_cv.predict(X_test)\n",
        "\n",
        "plot_confusion_matrix(Y_test, yhat)"
      ],
      "metadata": {
        "colab": {
          "base_uri": "https://localhost:8080/",
          "height": 472
        },
        "id": "W-vSoLq97SFj",
        "outputId": "f1f915a9-97d8-496b-8826-39a29ac2a3f2"
      },
      "execution_count": 17,
      "outputs": [
        {
          "output_type": "display_data",
          "data": {
            "text/plain": [
              "<Figure size 640x480 with 2 Axes>"
            ],
            "image/png": "[encoded data removed]"
          },
          "metadata": {}
        }
      ]
    },
    {
      "cell_type": "code",
      "source": [
        "tree = DecisionTreeClassifier()\n",
        "\n",
        "parameters = {\n",
        "    'criterion': ['gini', 'entropy'],\n",
        "    'splitter': ['best', 'random'],\n",
        "    'max_depth': [2 * n for n in range(1, 10)],\n",
        "    'max_features': ['sqrt', 'log2'],  # Corrected 'max_features' options\n",
        "    'min_samples_leaf': [1, 2, 4],\n",
        "    'min_samples_split': [2, 5, 10]\n",
        "}\n",
        "\n",
        "\n",
        "tree_cv = GridSearchCV(estimator=tree, param_grid=parameters, cv=10, scoring='accuracy')\n",
        "\n",
        "tree_cv.fit(X_train, Y_train)\n",
        "\n",
        "best_params = tree_cv.best_params_\n",
        "best_score = tree_cv.best_score_\n",
        "\n",
        "print(\"Best Parameters:\", best_params)\n",
        "print(\"Best Cross-Validation Accuracy:\", best_score)\n"
      ],
      "metadata": {
        "colab": {
          "base_uri": "https://localhost:8080/"
        },
        "id": "H4xLaKoz7XVD",
        "outputId": "0f92c4cb-191e-4ae0-fe7c-456880862f88"
      },
      "execution_count": 18,
      "outputs": [
        {
          "output_type": "stream",
          "name": "stdout",
          "text": [
            "Best Parameters: {'criterion': 'entropy', 'max_depth': 6, 'max_features': 'sqrt', 'min_samples_leaf': 2, 'min_samples_split': 5, 'splitter': 'random'}\n",
            "Best Cross-Validation Accuracy: 0.9035714285714285\n"
          ]
        },
        {
          "output_type": "stream",
          "name": "stderr",
          "text": [
            "/usr/local/lib/python3.10/dist-packages/numpy/ma/core.py:2820: RuntimeWarning: invalid value encountered in cast\n",
            "  _data = np.array(data, dtype=dtype, copy=copy,\n"
          ]
        }
      ]
    },
    {
      "cell_type": "code",
      "source": [
        "test_accuracy = tree_cv.score(X_test, Y_test)\n",
        "\n",
        "print(\"Test Accuracy: \", test_accuracy)"
      ],
      "metadata": {
        "colab": {
          "base_uri": "https://localhost:8080/"
        },
        "id": "AZbo82HF8XGC",
        "outputId": "e37562db-1a76-4fc1-a912-dac175ee752e"
      },
      "execution_count": 19,
      "outputs": [
        {
          "output_type": "stream",
          "name": "stdout",
          "text": [
            "Test Accuracy:  0.7222222222222222\n"
          ]
        }
      ]
    },
    {
      "cell_type": "code",
      "source": [
        "yhat = tree_cv.predict(X_test)\n",
        "\n",
        "plot_confusion_matrix(Y_test, yhat)"
      ],
      "metadata": {
        "colab": {
          "base_uri": "https://localhost:8080/",
          "height": 472
        },
        "id": "OpqSp9Gx8ebC",
        "outputId": "2b36ea03-8d44-4375-a7b6-5ec91fa5edd4"
      },
      "execution_count": 20,
      "outputs": [
        {
          "output_type": "display_data",
          "data": {
            "text/plain": [
              "<Figure size 640x480 with 2 Axes>"
            ],
            "image/png": "[encoded data removed]"
          },
          "metadata": {}
        }
      ]
    },
    {
      "cell_type": "code",
      "source": [
        "KNN = KNeighborsClassifier()\n",
        "\n",
        "parameters = {'n_neighbors': [1, 2, 3, 4, 5, 6, 7, 8, 9, 10],\n",
        "              'algorithm': ['auto', 'ball_tree', 'kd_tree', 'brute'],\n",
        "              'p': [1, 2]}\n",
        "\n",
        "knn_cv = GridSearchCV(KNN, parameters, cv=10)\n",
        "\n",
        "knn_cv.fit(X_train, Y_train)\n",
        "\n",
        "print(\"Best Parameters: \", knn_cv.best_params_)\n",
        "\n",
        "print(\"Best Cross-Validation Accuracy: \", knn_cv.best_score_)\n"
      ],
      "metadata": {
        "colab": {
          "base_uri": "https://localhost:8080/"
        },
        "id": "EWybHOBa8qgy",
        "outputId": "a179d501-a898-4ef5-e3be-51117ade1953"
      },
      "execution_count": 21,
      "outputs": [
        {
          "output_type": "stream",
          "name": "stdout",
          "text": [
            "Best Parameters:  {'algorithm': 'auto', 'n_neighbors': 3, 'p': 1}\n",
            "Best Cross-Validation Accuracy:  0.8339285714285714\n"
          ]
        }
      ]
    },
    {
      "cell_type": "code",
      "source": [
        "test_accuracy = knn_cv.score(X_test, Y_test)\n",
        "\n",
        "print(\"Test Accuracy: \", test_accuracy)"
      ],
      "metadata": {
        "colab": {
          "base_uri": "https://localhost:8080/"
        },
        "id": "UV80cykt9Bhj",
        "outputId": "7d3d2c4a-cb40-4029-ffb9-c19c47f3c98b"
      },
      "execution_count": 22,
      "outputs": [
        {
          "output_type": "stream",
          "name": "stdout",
          "text": [
            "Test Accuracy:  0.7777777777777778\n"
          ]
        }
      ]
    },
    {
      "cell_type": "code",
      "source": [
        "yhat = knn_cv.predict(X_test)\n",
        "\n",
        "plot_confusion_matrix(Y_test, yhat)"
      ],
      "metadata": {
        "colab": {
          "base_uri": "https://localhost:8080/",
          "height": 472
        },
        "id": "SW3dttOI9M-8",
        "outputId": "7bd44a1b-5df6-4db7-ef36-2f027608b6a2"
      },
      "execution_count": 23,
      "outputs": [
        {
          "output_type": "display_data",
          "data": {
            "text/plain": [
              "<Figure size 640x480 with 2 Axes>"
            ],
            "image/png": "[encoded data removed]"
          },
          "metadata": {}
        }
      ]
    },
    {
      "cell_type": "code",
      "source": [
        "from sklearn.metrics import accuracy_score, precision_score, recall_score, f1_score, roc_auc_score, confusion_matrix\n",
        "\n",
        "def get_metrics(y_true, y_pred):\n",
        "    return {\n",
        "        'Accuracy': accuracy_score(y_true, y_pred),\n",
        "        'Precision': precision_score(y_true, y_pred),\n",
        "        'Recall': recall_score(y_true, y_pred),\n",
        "        'F1-Score': f1_score(y_true, y_pred),\n",
        "        'ROC-AUC': roc_auc_score(y_true, y_pred),\n",
        "        'Confusion Matrix': confusion_matrix(y_true, y_pred)\n",
        "    }\n",
        "\n",
        "metrics_logreg = get_metrics(Y_test, logreg_cv.predict(X_test))\n",
        "metrics_svm = get_metrics(Y_test, svm_cv.predict(X_test))\n",
        "metrics_tree = get_metrics(Y_test, tree_cv.predict(X_test))\n",
        "metrics_knn = get_metrics(Y_test, knn_cv.predict(X_test))\n",
        "\n",
        "metrics = {\n",
        "    'Logistic Regression': metrics_logreg,\n",
        "    'SVM': metrics_svm,\n",
        "    'Decision Tree': metrics_tree,\n",
        "    'KNN': metrics_knn\n",
        "}\n",
        "\n",
        "\n",
        "metrics_df = pd.DataFrame(metrics).T\n",
        "\n",
        "print(metrics_df)\n"
      ],
      "metadata": {
        "colab": {
          "base_uri": "https://localhost:8080/"
        },
        "id": "1CSc22UW-YcR",
        "outputId": "6f1b61f2-8df0-4aa0-8547-22e4c487b2bc"
      },
      "execution_count": 24,
      "outputs": [
        {
          "output_type": "stream",
          "name": "stdout",
          "text": [
            "                     Accuracy Precision    Recall  F1-Score   ROC-AUC  \\\n",
            "Logistic Regression  0.833333       0.8       1.0  0.888889      0.75   \n",
            "SVM                  0.833333       0.8       1.0  0.888889      0.75   \n",
            "Decision Tree        0.722222  0.769231  0.833333       0.8  0.666667   \n",
            "KNN                  0.777778      0.75       1.0  0.857143  0.666667   \n",
            "\n",
            "                      Confusion Matrix  \n",
            "Logistic Regression  [[3, 3], [0, 12]]  \n",
            "SVM                  [[3, 3], [0, 12]]  \n",
            "Decision Tree        [[3, 3], [2, 10]]  \n",
            "KNN                  [[2, 4], [0, 12]]  \n"
          ]
        }
      ]
    }
  ]
}